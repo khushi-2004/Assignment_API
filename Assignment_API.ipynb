{
 "cells": [
  {
   "cell_type": "code",
   "execution_count": null,
   "id": "36a193f2-a09b-4dd0-a0fe-b0a9ffe958e8",
   "metadata": {},
   "outputs": [],
   "source": [
    "Q1. What is an API? Give an example, where an API is used in real life."
   ]
  },
  {
   "cell_type": "code",
   "execution_count": null,
   "id": "3611c207-da4d-43f4-a3d2-77fefbca1c87",
   "metadata": {},
   "outputs": [],
   "source": [
    "--> API is a application programming interface\n",
    "--> API is use for connect the two different language\n",
    "--> and also help to communicate between frount end and back end\n",
    "\n",
    "In real life api is use for google ,gamil appliction"
   ]
  },
  {
   "cell_type": "code",
   "execution_count": null,
   "id": "281ef9ad-5dd6-4ee5-b3f0-51c3b5e5037c",
   "metadata": {},
   "outputs": [],
   "source": [
    "Q2. Give advantages and disadvantages of using API."
   ]
  },
  {
   "cell_type": "code",
   "execution_count": null,
   "id": "f5c557d3-f988-43bc-996f-b6a8d6528fc6",
   "metadata": {},
   "outputs": [],
   "source": [
    "Advantage:\n",
    "    1. API solutions enable different software systems to communicate with each other\n",
    "    2. improved efficiency\n",
    "    3. Better User exprience\n",
    "    4. increase flexibility\n",
    "\n",
    "Disadvantage:\n",
    "    1. security concerens\n",
    "    2. complexity\n",
    "    3. compatibility issues"
   ]
  },
  {
   "cell_type": "code",
   "execution_count": null,
   "id": "d98f984a-8578-4326-80a5-5ce91594550b",
   "metadata": {},
   "outputs": [],
   "source": [
    "Q3. What is a Web API? Differentiate between API and Web API."
   ]
  },
  {
   "cell_type": "code",
   "execution_count": null,
   "id": "56273e92-30ba-40c2-abd1-6afe5dbb2915",
   "metadata": {},
   "outputs": [],
   "source": [
    "web API:\n",
    "    Web API is an extensible framework for building HTTP based services that can be accessed in different applications on different platforms \n",
    "\n",
    "Difference between API and Web API:\n",
    "    1. API is an interface that exposes an applications data to outside software, \n",
    "       whereas web applications are one type of API with stricter requirements\n",
    "        \n",
    "    2. API is an interface that allows you to build on the data and functionality of another application,\n",
    "       while a web service is a network-based resource that fulfills a specific task   "
   ]
  },
  {
   "cell_type": "code",
   "execution_count": null,
   "id": "c83589d1-44cd-4240-bec3-7afa3a72a962",
   "metadata": {},
   "outputs": [],
   "source": [
    "Q4. Explain REST and SOAP Architecture. Mention shortcomings of SOAP."
   ]
  },
  {
   "cell_type": "code",
   "execution_count": null,
   "id": "59941aa4-4d14-42d7-be89-520180645192",
   "metadata": {},
   "outputs": [],
   "source": [
    "REST and SOAP Architecture:\n",
    "    \n",
    "    REST:\n",
    "        =>it is based on web application with the help of http.\n",
    "        =>protocol transfer the data, update and delete the data.\n",
    "          (GET,POST,DELETE,PUT)\n",
    "        => in term of development it is simple and scalability and flexible\n",
    "        \n",
    "    SOAP:\n",
    "        =>it is XML based web application.\n",
    "        =>it is also support http,smtp,tcp.\n",
    "        =>light weigth protocol."
   ]
  },
  {
   "cell_type": "code",
   "execution_count": null,
   "id": "17bd2385-0c06-49a8-82bc-269c1de8f686",
   "metadata": {},
   "outputs": [],
   "source": [
    "Q5. Differentiate between REST and SOAP."
   ]
  },
  {
   "cell_type": "code",
   "execution_count": null,
   "id": "8f715c30-0e22-479b-ae31-656cad874376",
   "metadata": {},
   "outputs": [],
   "source": [
    "\n",
    "SOAP uses only XML for exchanging information in its message format\n",
    "whereas REST is not restricted to XML and its the choice of implementer \n",
    "which Media-Type to use like XML, JSON, Plain-text."
   ]
  },
  {
   "cell_type": "code",
   "execution_count": null,
   "id": "747f12ee-1547-4766-99b8-6dca23ef1634",
   "metadata": {},
   "outputs": [],
   "source": []
  }
 ],
 "metadata": {
  "kernelspec": {
   "display_name": "Python 3 (ipykernel)",
   "language": "python",
   "name": "python3"
  },
  "language_info": {
   "codemirror_mode": {
    "name": "ipython",
    "version": 3
   },
   "file_extension": ".py",
   "mimetype": "text/x-python",
   "name": "python",
   "nbconvert_exporter": "python",
   "pygments_lexer": "ipython3",
   "version": "3.10.8"
  }
 },
 "nbformat": 4,
 "nbformat_minor": 5
}
